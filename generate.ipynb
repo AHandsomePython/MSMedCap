{
 "cells": [
  {
   "cell_type": "code",
   "execution_count": null,
   "metadata": {},
   "outputs": [],
   "source": [
    "# evaluate on the test dataset\n",
    "\n",
    "\n",
    "import torch\n",
    "from lavis.models import load_model_and_preprocess\n",
    "from PIL import Image\n",
    "\n",
    "# load sample image\n",
    "\n",
    "device = torch.device(\"cuda:1\" if torch.cuda.is_available() else \"cpu\")\n",
    "# loads BLIP caption base model, with finetuned checkpoints on MSCOCO captioning dataset.\n",
    "# this also loads the associated image processors\n",
    "model, vis_processors, _ = load_model_and_preprocess(name=\"blip2_opt\", model_type=\"caption_coco_opt2.7b\", is_eval=True, device=device)\n",
    "# preprocess the image\n",
    "# vis_processors stores image transforms for \"train\" and \"eval\" (validation / testing / inference)\n",
    "# ['a large fountain spewing water into the air']"
   ]
  },
  {
   "cell_type": "code",
   "execution_count": null,
   "metadata": {},
   "outputs": [],
   "source": [
    "img_path = [\"./figures/3ec146b46698970fd4c6d28ee391bfbad03e53d3_2-Figure1-1.png\", \n",
    "            \"./figures/48ac5166fbcbee7ffc3ef5d4c69a19cacc4187c6_8-Figure5-1.png\", \n",
    "            \"./figures/b4c8ecc4b4ac28e7aa65eb7fddbf0ba501d7d167_2-Figure1-1.png\",\n",
    "            \"./figures/ROCO_00001.jpg\",\n",
    "            \"./figures/60376f59f456a648c5e50e255dd4115ec564a4b5_2-Figure2-1.png\",\n",
    "            \"../LAVIS/roco.jpg\"]\n",
    "# path to your image \n",
    "for i in img_path:\n",
    "    raw_image = Image.open(i).convert(\"RGB\")\n",
    "    image = vis_processors[\"eval\"](raw_image).unsqueeze(0).to(device)\n",
    "    # generate caption\n",
    "    pred1 = model.generate({\"image\": image, \"prompt\": \"Question: Describe the image. Answer:\"}, max_length=100, num_captions=1)\n",
    "    print(pred1)"
   ]
  }
 ],
 "metadata": {
  "kernelspec": {
   "display_name": "medical",
   "language": "python",
   "name": "python3"
  },
  "language_info": {
   "codemirror_mode": {
    "name": "ipython",
    "version": 3
   },
   "file_extension": ".py",
   "mimetype": "text/x-python",
   "name": "python",
   "nbconvert_exporter": "python",
   "pygments_lexer": "ipython3",
   "version": "3.8.19"
  },
  "orig_nbformat": 4
 },
 "nbformat": 4,
 "nbformat_minor": 2
}
