{
 "cells": [
  {
   "cell_type": "code",
   "execution_count": 2,
   "metadata": {},
   "outputs": [],
   "source": [
    "import torch\n",
    "from torch.utils.data import Dataset, DataLoader\n",
    "import os\n",
    "import csv\n",
    "import numpy as np\n",
    "\n",
    "dataset_base = \"/data2/xcg_data/lavis_data/2023us/features\"\n",
    "csvpath = \"/data/xcg/lavis_data/coco-2023us/excels/translated.csv\""
   ]
  },
  {
   "cell_type": "code",
   "execution_count": 5,
   "metadata": {},
   "outputs": [],
   "source": [
    "\n",
    "\n",
    "\n",
    "# Define your custom dataset class\n",
    "class CustomDataset(Dataset):\n",
    "    def __init__(self, dataset_base, csvpath, limitation):\n",
    "        self.csvpath = csvpath\n",
    "        self.dataset_base = dataset_base\n",
    "        self.pairs, self.keylist = self.load_caption()\n",
    "        self.limitation = limitation\n",
    "    \n",
    "    def load_caption(self):\n",
    "\n",
    "        # {personid: [[image_ids, ], caption], }\n",
    "        pairs = {}\n",
    "        with open(self.csvpath, 'r') as csvfile:\n",
    "            reader = csv.reader(csvfile)\n",
    "            for row in reader:\n",
    "                personid = str(row[0]).split(\"_\")[1]\n",
    "                if personid not in pairs:\n",
    "                    pairs[personid] = [[row[0]], row[1]]\n",
    "                else:\n",
    "                    pairs[personid][0].append(row[0])\n",
    "\n",
    "        return pairs, list(pairs.keys())\n",
    "\n",
    "\n",
    "    def __len__(self):\n",
    "        return len(self.keylist)\n",
    "\n",
    "    def __getitem__(self, index):\n",
    "        # clip_feature, sam_feature, caption\n",
    "        personid = self.keylist[index]\n",
    "        clip_feature = None\n",
    "        sam_feature = None\n",
    "        for i in range(self.limitation):\n",
    "            pairlen = len(self.pairs[personid][0])\n",
    "            clip_feature_path = self.dataset_base + \"/clip_features/\" + self.pairs[personid][0][i % pairlen] + '.npz'\n",
    "            sam_feature_path = self.dataset_base + \"/sam_features/\" + self.pairs[personid][0][i % pairlen] + '.npz'\n",
    "            clip_dataloads = np.load(clip_feature_path)\n",
    "            sam_dataloads = np.load(sam_feature_path)\n",
    "            if clip_feature is None:\n",
    "                clip_feature = torch.from_numpy(clip_dataloads[\"arr\"]).unsqueeze(0)\n",
    "                sam_feature = torch.from_numpy(sam_dataloads[\"arr\"]).unsqueeze(0)\n",
    "            else:\n",
    "                clip_feature = torch.cat([clip_feature, torch.from_numpy(clip_dataloads[\"arr\"]).unsqueeze(0)], dim=0)\n",
    "                sam_feature = torch.cat([sam_feature, torch.from_numpy(sam_dataloads[\"arr\"]).unsqueeze(0)], dim=0)\n",
    "\n",
    "        return clip_feature, sam_feature, self.pairs[personid][1]"
   ]
  },
  {
   "cell_type": "code",
   "execution_count": null,
   "metadata": {},
   "outputs": [],
   "source": [
    "datas = CustomDataset(dataset_base=dataset_base, csvpath=csvpath, limitation=4)\n",
    "datas[0]"
   ]
  },
  {
   "cell_type": "code",
   "execution_count": 12,
   "metadata": {},
   "outputs": [],
   "source": [
    "custom_dataloader = DataLoader(datas, batch_size=6, shuffle=False)"
   ]
  },
  {
   "cell_type": "code",
   "execution_count": 13,
   "metadata": {},
   "outputs": [
    {
     "name": "stdout",
     "output_type": "stream",
     "text": [
      "torch.Size([6, 4, 677, 1408]) torch.Size([6, 4, 256, 4096]) 6\n"
     ]
    }
   ],
   "source": [
    "for clipfeatures, samfeatures, labels in custom_dataloader:\n",
    "    print(clipfeatures.shape, samfeatures.shape, len(labels))\n",
    "    break"
   ]
  }
 ],
 "metadata": {
  "kernelspec": {
   "display_name": "medical",
   "language": "python",
   "name": "python3"
  },
  "language_info": {
   "codemirror_mode": {
    "name": "ipython",
    "version": 3
   },
   "file_extension": ".py",
   "mimetype": "text/x-python",
   "name": "python",
   "nbconvert_exporter": "python",
   "pygments_lexer": "ipython3",
   "version": "3.8.16"
  },
  "orig_nbformat": 4
 },
 "nbformat": 4,
 "nbformat_minor": 2
}
