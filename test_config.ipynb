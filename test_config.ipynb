{
 "cells": [
  {
   "cell_type": "code",
   "execution_count": 3,
   "metadata": {},
   "outputs": [],
   "source": [
    "import yaml\n",
    "\n",
    "yaml_file_path = '/home/xcg/medical-research/Project23us/config/train.yaml'\n",
    "\n",
    "with open(yaml_file_path, 'r') as file:\n",
    "    data = yaml.load(file, Loader=yaml.FullLoader)\n",
    "\n"
   ]
  },
  {
   "cell_type": "code",
   "execution_count": 4,
   "metadata": {},
   "outputs": [
    {
     "data": {
      "text/plain": [
       "{'model': {'pretrained_path': '/data/xcg/lavis_data/output/BLIP2/best_results/checkpoint_2.pth'},\n",
       " 'run': {'task': 'image_text_pretrain',\n",
       "  'lr_sched': 'linear_warmup_cosine_lr',\n",
       "  'init_lr': '1e-4',\n",
       "  'min_lr': '1e-5',\n",
       "  'warmup_lr': '1e-6',\n",
       "  'lr_layer_decay': 1,\n",
       "  'beta2': 0.999,\n",
       "  'weight_decay': 0.05,\n",
       "  'max_epoch': 3,\n",
       "  'batch_size_train': 4,\n",
       "  'batch_size_eval': 4,\n",
       "  'num_workers': 1,\n",
       "  'warmup_steps': 2000,\n",
       "  'seed': 42,\n",
       "  'output_dir': '/data/xcg/lavis_data/output/BLIP2/Final/BLIP2&SAM_CLIP_coco&SAM_coco',\n",
       "  'amp': True,\n",
       "  'resume_ckpt_path': None,\n",
       "  'evaluate': False,\n",
       "  'train_splits': ['train'],\n",
       "  'device': 'cuda:0',\n",
       "  'world_size': 1,\n",
       "  'dist_url': 'env://',\n",
       "  'distributed': False},\n",
       " 'dataset': {'batch_size': 6,\n",
       "  'limitation': 4,\n",
       "  'shuffle': False,\n",
       "  'dataset_base': '/data2/xcg_data/lavis_data/2023us/features',\n",
       "  'csv_path': '/data/xcg/lavis_data/coco-2023us/excels/translated.csv'}}"
      ]
     },
     "execution_count": 4,
     "metadata": {},
     "output_type": "execute_result"
    }
   ],
   "source": [
    "data"
   ]
  }
 ],
 "metadata": {
  "kernelspec": {
   "display_name": "medical",
   "language": "python",
   "name": "python3"
  },
  "language_info": {
   "codemirror_mode": {
    "name": "ipython",
    "version": 3
   },
   "file_extension": ".py",
   "mimetype": "text/x-python",
   "name": "python",
   "nbconvert_exporter": "python",
   "pygments_lexer": "ipython3",
   "version": "3.8.16"
  },
  "orig_nbformat": 4
 },
 "nbformat": 4,
 "nbformat_minor": 2
}
