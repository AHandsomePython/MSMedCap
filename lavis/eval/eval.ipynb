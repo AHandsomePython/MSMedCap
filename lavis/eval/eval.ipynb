{
 "cells": [
  {
   "cell_type": "code",
   "execution_count": 1,
   "metadata": {},
   "outputs": [
    {
     "name": "stderr",
     "output_type": "stream",
     "text": [
      "/home/xcg/anaconda3/envs/medical/lib/python3.8/site-packages/tqdm/auto.py:21: TqdmWarning: IProgress not found. Please update jupyter and ipywidgets. See https://ipywidgets.readthedocs.io/en/stable/user_install.html\n",
      "  from .autonotebook import tqdm as notebook_tqdm\n"
     ]
    },
    {
     "name": "stdout",
     "output_type": "stream",
     "text": [
      "calculating scores...\n",
      "computing bert embedding.\n"
     ]
    },
    {
     "name": "stderr",
     "output_type": "stream",
     "text": [
      "100%|██████████| 1/1 [00:00<00:00,  1.33it/s]\n"
     ]
    },
    {
     "name": "stdout",
     "output_type": "stream",
     "text": [
      "computing greedy matching.\n"
     ]
    },
    {
     "name": "stderr",
     "output_type": "stream",
     "text": [
      "100%|██████████| 1/1 [00:00<00:00, 350.23it/s]"
     ]
    },
    {
     "name": "stdout",
     "output_type": "stream",
     "text": [
      "done in 0.76 seconds, 1.31 sentences/sec\n",
      "Precision:  tensor([0.8168])\n",
      "Recall:  tensor([0.8436])\n",
      "F1:  0.8299777507781982\n"
     ]
    },
    {
     "name": "stderr",
     "output_type": "stream",
     "text": [
      "\n"
     ]
    }
   ],
   "source": [
    "# 代码实现-版本1\n",
    "\n",
    "from bert_score import score\n",
    "\n",
    "def BertScore(predictions, references):\n",
    "    \n",
    "    P, R, F1 = score(predictions, references, lang=\"en\", verbose=True, model_type = \"distilbert-base-uncased\")\n",
    "    \n",
    "    # print(f\"System level F1 score: {F1.mean():.3f}\")\n",
    "    print(\"Precision: \",P)\n",
    "    print(\"Recall: \",R)\n",
    "    print(\"F1: \",float(F1))\n",
    "    return  F1\n",
    "\n",
    "predictions = ['Do not trust him, he is a liar.']\n",
    "references = ['He is not trustworthy and betrays everyone.']\n",
    "F1 = BertScore(predictions, references)"
   ]
  }
 ],
 "metadata": {
  "kernelspec": {
   "display_name": "medical",
   "language": "python",
   "name": "python3"
  },
  "language_info": {
   "codemirror_mode": {
    "name": "ipython",
    "version": 3
   },
   "file_extension": ".py",
   "mimetype": "text/x-python",
   "name": "python",
   "nbconvert_exporter": "python",
   "pygments_lexer": "ipython3",
   "version": "3.8.16"
  },
  "orig_nbformat": 4,
  "vscode": {
   "interpreter": {
    "hash": "5f4464f06ef0597b7c49492ab8cd3c1489b9ed9c91f07943a71a3276c6a443e4"
   }
  }
 },
 "nbformat": 4,
 "nbformat_minor": 2
}
